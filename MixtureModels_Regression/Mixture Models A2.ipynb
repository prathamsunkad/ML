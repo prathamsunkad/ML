{
 "cells": [
  {
   "cell_type": "markdown",
   "metadata": {},
   "source": [
    "_ASSIGNMENT-2 PRATHAM SUNKAD ME21B145_"
   ]
  },
  {
   "cell_type": "code",
   "execution_count": 1,
   "metadata": {},
   "outputs": [],
   "source": [
    "import numpy as np\n",
    "import matplotlib.pyplot as plt\n",
    "import pandas as pd\n",
    "import random"
   ]
  },
  {
   "cell_type": "markdown",
   "metadata": {},
   "source": [
    "**Defining functions**"
   ]
  },
  {
   "cell_type": "code",
   "execution_count": 2,
   "metadata": {},
   "outputs": [],
   "source": [
    "def read_data(filename):\n",
    "    data = pd.read_csv(filename, header=None)\n",
    "    data_array = data.iloc[:, :].values.T\n",
    "    return data_array"
   ]
  },
  {
   "cell_type": "markdown",
   "metadata": {},
   "source": [
    "Bernoulli Mixture Model Functions"
   ]
  },
  {
   "cell_type": "code",
   "execution_count": 3,
   "metadata": {},
   "outputs": [],
   "source": [
    "def initialize_mixture_params(data, K):\n",
    "    p_array = np.random.rand(data.shape[0], K)\n",
    "    pi_array = np.random.dirichlet(np.ones(K), size=1)[0]\n",
    "    return p_array, pi_array"
   ]
  },
  {
   "cell_type": "code",
   "execution_count": 4,
   "metadata": {},
   "outputs": [],
   "source": [
    "def e_step(data, p_array, pi_array):\n",
    "    N = data.shape[1]\n",
    "    K = p_array.shape[1]\n",
    "    lambda_array = np.zeros((N, K))\n",
    "    for i in range(N):\n",
    "        for j in range(K):\n",
    "            lambda_array[i, j] = pi_array[j] * np.prod(p_array[:, j] ** data[:, i] * (1 - p_array[:, j]) ** (1 - data[:, i]))\n",
    "        lambda_array[i] /= np.sum(lambda_array[i])\n",
    "    return lambda_array"
   ]
  },
  {
   "cell_type": "code",
   "execution_count": 5,
   "metadata": {},
   "outputs": [],
   "source": [
    "def m_step(data, lambda_array):\n",
    "    N = data.shape[1]\n",
    "    K = lambda_array.shape[1]\n",
    "    pi_array = np.mean(lambda_array, axis=0)\n",
    "    p_array = np.zeros((data.shape[0], K))\n",
    "    for j in range(K):\n",
    "        p_array[:, j] = np.sum(lambda_array[:, j] * data, axis=1) / np.sum(lambda_array[:, j])\n",
    "    return p_array, pi_array"
   ]
  },
  {
   "cell_type": "code",
   "execution_count": 6,
   "metadata": {},
   "outputs": [],
   "source": [
    "def log_likelihood(data, p_array, pi_array):\n",
    "    N = data.shape[1]\n",
    "    K = p_array.shape[1]\n",
    "    log_l = 0\n",
    "    for i in range(N):\n",
    "        likelihood = 0\n",
    "        for j in range(K):\n",
    "            likelihood += pi_array[j] * np.prod(p_array[:, j] ** data[:, i] * (1 - p_array[:, j]) ** (1 - data[:, i]))\n",
    "        log_l += np.log(likelihood)\n",
    "    return log_l"
   ]
  },
  {
   "cell_type": "code",
   "execution_count": 123,
   "metadata": {},
   "outputs": [],
   "source": [
    "def em_algorithm(dataset, K, iterations):\n",
    "    log_l = np.zeros(iterations)\n",
    "    iter = np.zeros(iterations)\n",
    "    for ini in range(100):\n",
    "        p_array, pi_array = initialize_mixture_params(dataset, K)\n",
    "        for i in range(iterations):\n",
    "            log_l[i]+=log_likelihood(dataset, p_array, pi_array)\n",
    "            iter[i] = i\n",
    "            lambda_array = e_step(dataset, p_array, pi_array)\n",
    "            p_array, pi_array = m_step(dataset, lambda_array)\n",
    "    log_l /= 100\n",
    "    return p_array, pi_array, lambda_array, log_l, iter"
   ]
  },
  {
   "cell_type": "markdown",
   "metadata": {},
   "source": [
    "Multivariate Gaussian Mixture Model Functions"
   ]
  },
  {
   "cell_type": "code",
   "execution_count": 72,
   "metadata": {},
   "outputs": [],
   "source": [
    "def initialize_mixture_params_gaussian(data, K):\n",
    "    mu_array = np.random.rand(data.shape[0], K)\n",
    "    sigma_array = np.zeros((data.shape[0], data.shape[0], K))\n",
    "    for k in range(K):\n",
    "        # sigma_array[:, :, k] = mu_array[:, k] @ mu_array[:, k].T\n",
    "        sigma_array[:,:,k] = np.eye(data.shape[0])/10\n",
    "    pi_array = np.random.dirichlet(np.ones(K), size=1)[0]\n",
    "    return mu_array, sigma_array, pi_array"
   ]
  },
  {
   "cell_type": "code",
   "execution_count": 151,
   "metadata": {},
   "outputs": [],
   "source": [
    "def e_step_gaussian(data, mu_array, sigma_array, pi_array):\n",
    "    N = data.shape[1]\n",
    "    K = mu_array.shape[1]\n",
    "    d = data.shape[0]\n",
    "    lambda_array = np.random.rand(N, K)\n",
    "    for i in range(N):\n",
    "        for j in range(K):\n",
    "            if(np.linalg.det(sigma_array[:, :, j]) == 0):\n",
    "                sigma_array[:, :, j] += 0.04 * np.eye(d)\n",
    "            lambda_array[i, j] = pi_array[j]*((2 * np.pi)**(-d/2) * (np.linalg.det(sigma_array[:,:, j]))**-0.5) * np.exp(-0.5 * ((data[:, i] - mu_array[:, j]).T @ np.linalg.inv(sigma_array[:, :, j]) @ (data[:, i] - mu_array[:, j])))\n",
    "        lambda_array[i] /= np.sum(lambda_array[i])\n",
    "    return lambda_array"
   ]
  },
  {
   "cell_type": "code",
   "execution_count": 150,
   "metadata": {},
   "outputs": [],
   "source": [
    "def m_step_gaussian(data, lambda_array):\n",
    "    N = data.shape[1]\n",
    "    K = lambda_array.shape[1]\n",
    "    pi_array = np.mean(lambda_array, axis=0)\n",
    "    mu_array = np.zeros((data.shape[0], K))\n",
    "    sigma_array = np.zeros((data.shape[0], data.shape[0], K))\n",
    "    for j in range(K):\n",
    "        mu_array[:, j] = np.sum(lambda_array[:, j].reshape(-1,1) * data.T, axis=0) / np.sum(lambda_array[:, j])\n",
    "        for i in range(N):\n",
    "            sigma_array[:,:, j] += lambda_array[i, j] * ((data[:,i] - mu_array[:, j]) @ (data[:,i] - mu_array[:, j]).T) / np.sum(lambda_array[:, j])\n",
    "    return mu_array, sigma_array, pi_array"
   ]
  },
  {
   "cell_type": "code",
   "execution_count": 148,
   "metadata": {},
   "outputs": [],
   "source": [
    "def log_likelihood_gaussian(data, mu_array, sigma_array, pi_array):\n",
    "    N = data.shape[1]\n",
    "    K = mu_array.shape[1]\n",
    "    d = data.shape[0]\n",
    "    log_l = 0\n",
    "    for i in range(N):\n",
    "        likelihood = 0\n",
    "        for j in range(K):\n",
    "            if(np.linalg.det(sigma_array[:, :, j]) == 0):\n",
    "                sigma_array[:, :, j] += 0.04 * np.eye(d)\n",
    "            likelihood += pi_array[j]*((2 * np.pi)**(-d/2) * (np.linalg.det(sigma_array[:,:, j]))**-0.5) * np.exp(-0.5 * ((data[:, i] - mu_array[:, j]).T @ np.linalg.inv(sigma_array[:, :, j]) @ (data[:, i] - mu_array[:, j])))\n",
    "        log_l += np.log(likelihood)\n",
    "    return log_l"
   ]
  },
  {
   "cell_type": "code",
   "execution_count": 149,
   "metadata": {},
   "outputs": [],
   "source": [
    "def em_algorithm_gaussian(dataset, K, iterations):\n",
    "    log_l = np.zeros(iterations)\n",
    "    iter = np.zeros(iterations)\n",
    "    for ini in range(100):\n",
    "        mu_array, sigma_array, pi_array = initialize_mixture_params_gaussian(dataset, K)\n",
    "        for i in range(iterations):\n",
    "            log_l[i]+=log_likelihood_gaussian(dataset, mu_array, sigma_array, pi_array)\n",
    "            iter[i] = i\n",
    "            lambda_array = e_step_gaussian(dataset, mu_array, sigma_array, pi_array)\n",
    "            mu_array, sigma_array, pi_array = m_step_gaussian(dataset, lambda_array)\n",
    "    \n",
    "    log_l /= 100\n",
    "    return mu_array, sigma_array, pi_array, lambda_array, log_l, iter"
   ]
  },
  {
   "cell_type": "markdown",
   "metadata": {},
   "source": [
    "K-Means functions"
   ]
  },
  {
   "cell_type": "code",
   "execution_count": 13,
   "metadata": {},
   "outputs": [],
   "source": [
    "def random_initialize(dataset, k):\n",
    "    z_array = np.zeros(len(dataset))\n",
    "    for i in range(len(dataset)):\n",
    "        z_array[i] = int(np.random.randint(1, k+1))\n",
    "    return z_array"
   ]
  },
  {
   "cell_type": "code",
   "execution_count": 14,
   "metadata": {},
   "outputs": [],
   "source": [
    "def cal_mean(dataset, z_array, k):\n",
    "    d = dataset.shape[1]\n",
    "    mean_array = np.zeros((k, d))\n",
    "    count_z = np.zeros(k)\n",
    "    for z in z_array:\n",
    "        count_z[z-1]+=1\n",
    "        \n",
    "    for i in range(len(z_array)):\n",
    "        for j in range(d):\n",
    "            mean_array[z_array[i]-1][j] += dataset[i][j]/count_z[z_array[i]-1]\n",
    "\n",
    "        \n",
    "    return mean_array"
   ]
  },
  {
   "cell_type": "code",
   "execution_count": 15,
   "metadata": {},
   "outputs": [],
   "source": [
    "def cal_error(dataset, mean_array, z_array):\n",
    "    error = 0\n",
    "    for i in range(len(dataset)):\n",
    "        error += np.linalg.norm(dataset[i]-mean_array[z_array[i]-1])**2\n",
    "    return error"
   ]
  },
  {
   "cell_type": "code",
   "execution_count": 16,
   "metadata": {},
   "outputs": [],
   "source": [
    "def reassign(dataset, mean_array, z_array):\n",
    "    for i in range(len(dataset)):\n",
    "        for j in range(len(mean_array)):\n",
    "            distance = np.linalg.norm(dataset[i]-mean_array[j])**2\n",
    "            if j == 0:\n",
    "                min_distance = distance\n",
    "                z = j+1\n",
    "                continue\n",
    "            if distance < min_distance:\n",
    "                min_distance = distance\n",
    "                z = j+1\n",
    "                \n",
    "        z_array[i] = z\n",
    "    return z_array"
   ]
  },
  {
   "cell_type": "code",
   "execution_count": 17,
   "metadata": {},
   "outputs": [],
   "source": [
    "def kmeans(dataset, k):\n",
    "    z_array = np.array(random_initialize(dataset, k) ,dtype=int)\n",
    "    error_array = []\n",
    "    iter_array = []\n",
    "    mean_array = cal_mean(dataset, z_array, k)\n",
    "    error = cal_error(dataset, mean_array, z_array)\n",
    "    iterations = 0\n",
    "    while True:\n",
    "        error_array.append(error)\n",
    "        iter_array.append(iterations)\n",
    "        z_array = reassign(dataset, mean_array, z_array)\n",
    "        mean_array = cal_mean(dataset, z_array, k)\n",
    "        new_error = cal_error(dataset, mean_array, z_array)\n",
    "        if new_error == error:\n",
    "            break\n",
    "        error = new_error\n",
    "        iterations += 1\n",
    "    return error_array, iter_array"
   ]
  },
  {
   "cell_type": "code",
   "execution_count": 18,
   "metadata": {},
   "outputs": [],
   "source": [
    "def compare_kmeans_em(dataset_kmeans, lam_array, k):\n",
    "    N = lam_array.shape[0]\n",
    "    z_array = np.zeros(N)\n",
    "    for i in range(N):\n",
    "        cluster = np.argmax(lam_array[i])+1\n",
    "        z_array[i] = cluster\n",
    "    z_array = np.array(z_array, dtype=int)\n",
    "    mean_array = cal_mean(dataset_kmeans, z_array, k)\n",
    "    error = cal_error(dataset_kmeans, mean_array, z_array)\n",
    "    return error"
   ]
  },
  {
   "cell_type": "markdown",
   "metadata": {},
   "source": [
    "Main Code : \n",
    "Initializing the dataset"
   ]
  },
  {
   "cell_type": "code",
   "execution_count": 19,
   "metadata": {},
   "outputs": [
    {
     "data": {
      "text/plain": [
       "(50, 400)"
      ]
     },
     "execution_count": 19,
     "metadata": {},
     "output_type": "execute_result"
    }
   ],
   "source": [
    "filename = 'A2Q1.csv'\n",
    "dataset = read_data(filename)\n",
    "dataset.shape"
   ]
  },
  {
   "cell_type": "code",
   "execution_count": 20,
   "metadata": {},
   "outputs": [
    {
     "data": {
      "text/plain": [
       "(400, 50)"
      ]
     },
     "execution_count": 20,
     "metadata": {},
     "output_type": "execute_result"
    }
   ],
   "source": [
    "dataset_kmeans = dataset.T\n",
    "dataset_kmeans.shape"
   ]
  },
  {
   "cell_type": "markdown",
   "metadata": {},
   "source": [
    "Plotting Log Likely for Bernoulli Mixture Model"
   ]
  },
  {
   "cell_type": "code",
   "execution_count": 140,
   "metadata": {},
   "outputs": [],
   "source": [
    "K = 4\n",
    "iterations = 50"
   ]
  },
  {
   "cell_type": "code",
   "execution_count": 141,
   "metadata": {},
   "outputs": [],
   "source": [
    "p_array, pi_array, lambda_array, log_l, iter = em_algorithm(dataset, K, iterations)"
   ]
  },
  {
   "cell_type": "code",
   "execution_count": 142,
   "metadata": {},
   "outputs": [
    {
     "data": {
      "text/plain": [
       "array([0.01519687, 0.59149143, 0.14259815, 0.25071355])"
      ]
     },
     "execution_count": 142,
     "metadata": {},
     "output_type": "execute_result"
    }
   ],
   "source": [
    "pi_array"
   ]
  },
  {
   "cell_type": "code",
   "execution_count": 143,
   "metadata": {},
   "outputs": [
    {
     "data": {
      "text/plain": [
       "array([[0.00000000e+000, 4.49172208e-002, 2.69511580e-001,\n",
       "        8.97438348e-002],\n",
       "       [3.31602689e-001, 9.97682248e-002, 9.42643748e-002,\n",
       "        5.98559667e-002],\n",
       "       [4.94063847e-001, 7.87892171e-002, 1.81549560e-001,\n",
       "        1.09686924e-001],\n",
       "       [1.30748203e-016, 1.15822544e-001, 2.79942320e-002,\n",
       "        4.98578232e-002],\n",
       "       [0.00000000e+000, 5.85532766e-002, 2.12947598e-001,\n",
       "        1.19659686e-001],\n",
       "       [0.00000000e+000, 1.52157842e-001, 3.33980301e-011,\n",
       "        9.97151545e-002],\n",
       "       [1.65319160e-001, 8.59965497e-002, 2.16221743e-001,\n",
       "        1.12832446e-001],\n",
       "       [0.00000000e+000, 4.22219170e-002, 1.93031545e-001,\n",
       "        1.19659094e-001],\n",
       "       [2.03731019e-158, 7.68389296e-002, 1.37126953e-001,\n",
       "        9.97009600e-002],\n",
       "       [3.30427857e-001, 1.17647482e-001, 1.95591803e-001,\n",
       "        7.97724108e-002],\n",
       "       [1.83352605e-001, 9.51287866e-002, 9.48718744e-002,\n",
       "        1.59214365e-001],\n",
       "       [1.64947968e-001, 1.28388848e-001, 1.33609071e-001,\n",
       "        1.29630001e-001],\n",
       "       [1.00000000e+000, 9.10246130e-001, 8.98929017e-001,\n",
       "        1.22509247e-001],\n",
       "       [1.00000000e+000, 8.86528742e-001, 8.39503685e-001,\n",
       "        8.50441887e-001],\n",
       "       [1.00000000e+000, 8.64808014e-001, 9.99753682e-001,\n",
       "        9.20227788e-001],\n",
       "       [1.00000000e+000, 8.99508208e-001, 9.42905811e-001,\n",
       "        9.40496075e-001],\n",
       "       [1.00000000e+000, 8.86710872e-001, 8.21237973e-001,\n",
       "        9.10258872e-001],\n",
       "       [1.00000000e+000, 8.68177160e-001, 9.21208306e-001,\n",
       "        9.07095688e-001],\n",
       "       [1.00000000e+000, 8.91408794e-001, 9.77073960e-001,\n",
       "        9.30199140e-001],\n",
       "       [0.00000000e+000, 8.33524134e-002, 1.62677991e-001,\n",
       "        2.99153385e-002],\n",
       "       [0.00000000e+000, 8.91726513e-002, 1.21031490e-001,\n",
       "        1.09672071e-001],\n",
       "       [6.35103012e-001, 1.04142590e-001, 2.01607100e-001,\n",
       "        7.97730059e-002],\n",
       "       [1.00000000e+000, 8.66041481e-001, 9.76532275e-001,\n",
       "        7.29729916e-002],\n",
       "       [4.84622918e-001, 4.13652683e-002, 1.44988450e-001,\n",
       "        8.87438929e-001],\n",
       "       [3.53115575e-001, 8.93397030e-001, 8.09852696e-001,\n",
       "        8.40455431e-001],\n",
       "       [0.00000000e+000, 1.21371547e-001, 8.41413357e-014,\n",
       "        9.00269541e-001],\n",
       "       [1.00000000e+000, 8.96964020e-001, 9.76565954e-001,\n",
       "        5.98296281e-002],\n",
       "       [7.73170001e-100, 4.21897803e-002, 1.93191020e-001,\n",
       "        9.97011291e-002],\n",
       "       [1.74721868e-163, 9.69657373e-002, 1.58807065e-001,\n",
       "        8.97438661e-002],\n",
       "       [1.81716322e-001, 8.97351702e-002, 1.28812485e-001,\n",
       "        1.22819347e-001],\n",
       "       [0.00000000e+000, 1.18344972e-001, 6.85721240e-009,\n",
       "        4.98575467e-002],\n",
       "       [4.69418757e-001, 1.54087471e-001, 2.40710599e-002,\n",
       "        1.02875963e-001],\n",
       "       [1.00000000e+000, 9.00896866e-001, 8.19994925e-001,\n",
       "        7.97746806e-002],\n",
       "       [3.42196396e-001, 9.26549092e-001, 8.48867767e-001,\n",
       "        8.60371785e-001],\n",
       "       [6.69687239e-001, 8.79833306e-001, 8.32353011e-001,\n",
       "        9.50156025e-001],\n",
       "       [1.40969801e-080, 1.12780191e-001, 2.85440625e-007,\n",
       "        9.20538380e-001],\n",
       "       [1.00000000e+000, 8.92325670e-001, 8.20463089e-001,\n",
       "        6.98152253e-002],\n",
       "       [1.00000000e+000, 9.13188736e-001, 8.86756292e-001,\n",
       "        1.62376587e-001],\n",
       "       [6.81061336e-001, 8.86113792e-001, 9.79851026e-001,\n",
       "        1.02891685e-001],\n",
       "       [0.00000000e+000, 1.27983268e-001, 1.00274886e-001,\n",
       "        1.19658392e-001],\n",
       "       [4.93599498e-081, 8.96666557e-002, 6.63853365e-002,\n",
       "        7.97584150e-002],\n",
       "       [1.63490010e-001, 9.87996280e-002, 1.33776708e-001,\n",
       "        7.97723902e-002],\n",
       "       [1.56042381e-001, 7.20697483e-002, 2.87754717e-018,\n",
       "        1.19658496e-001],\n",
       "       [6.80034282e-127, 1.06402557e-001, 1.72258742e-001,\n",
       "        1.09687014e-001],\n",
       "       [1.63926035e-001, 7.78095605e-002, 1.50669181e-001,\n",
       "        7.97723239e-002],\n",
       "       [5.87235140e-114, 1.34912573e-001, 7.20816044e-002,\n",
       "        1.19346026e-001],\n",
       "       [2.47922751e-101, 1.16345560e-001, 6.08890980e-002,\n",
       "        8.97435554e-002],\n",
       "       [1.75349779e-001, 1.04165596e-001, 5.06235761e-003,\n",
       "        7.97734811e-002],\n",
       "       [0.00000000e+000, 7.44974078e-002, 9.42451055e-002,\n",
       "        9.97004108e-002],\n",
       "       [1.45757178e-097, 6.56174800e-002, 2.53773669e-001,\n",
       "        6.98014387e-002]])"
      ]
     },
     "execution_count": 143,
     "metadata": {},
     "output_type": "execute_result"
    }
   ],
   "source": [
    "p_array"
   ]
  },
  {
   "cell_type": "code",
   "execution_count": 144,
   "metadata": {},
   "outputs": [
    {
     "data": {
      "text/plain": [
       "array([[0.00000000e+00, 4.40300188e-10, 4.60598575e-30, 1.00000000e+00],\n",
       "       [0.00000000e+00, 2.01768649e-10, 9.10339653e-30, 1.00000000e+00],\n",
       "       [0.00000000e+00, 2.84160456e-08, 1.52271026e-25, 9.99999972e-01],\n",
       "       ...,\n",
       "       [0.00000000e+00, 9.99999999e-01, 7.75335144e-11, 8.38315948e-10],\n",
       "       [0.00000000e+00, 1.00000000e+00, 3.38779806e-10, 2.01965397e-12],\n",
       "       [0.00000000e+00, 9.99999998e-01, 1.25394482e-12, 1.83266214e-09]])"
      ]
     },
     "execution_count": 144,
     "metadata": {},
     "output_type": "execute_result"
    }
   ],
   "source": [
    "lambda_array"
   ]
  },
  {
   "cell_type": "code",
   "execution_count": 145,
   "metadata": {},
   "outputs": [
    {
     "data": {
      "text/plain": [
       "(array([-17892.39723087,  -7342.06602295,  -6961.51058169,  -6790.48402964,\n",
       "         -6718.86544522,  -6685.0771481 ,  -6668.75153439,  -6659.37783457,\n",
       "         -6654.09620046,  -6651.67231862,  -6650.18492104,  -6648.87606775,\n",
       "         -6647.78855849,  -6646.82906406,  -6646.10093609,  -6645.49896125,\n",
       "         -6644.95771226,  -6644.52242973,  -6644.16011043,  -6643.86581626,\n",
       "         -6643.55659393,  -6643.22277555,  -6642.92018609,  -6642.63693139,\n",
       "         -6642.41987869,  -6642.22593405,  -6641.9936013 ,  -6641.66078234,\n",
       "         -6641.302154  ,  -6641.00488075,  -6640.81689558,  -6640.6590066 ,\n",
       "         -6640.50264908,  -6640.34667296,  -6640.21401388,  -6640.02700292,\n",
       "         -6639.90375072,  -6639.83267818,  -6639.7361996 ,  -6639.42388192,\n",
       "         -6639.10724763,  -6638.41246126,  -6638.10418563,  -6638.04195583,\n",
       "         -6637.99650425,  -6637.95510447,  -6637.91542199,  -6637.86886219,\n",
       "         -6637.42858093,  -6636.69712183]),\n",
       " array([ 0.,  1.,  2.,  3.,  4.,  5.,  6.,  7.,  8.,  9., 10., 11., 12.,\n",
       "        13., 14., 15., 16., 17., 18., 19., 20., 21., 22., 23., 24., 25.,\n",
       "        26., 27., 28., 29., 30., 31., 32., 33., 34., 35., 36., 37., 38.,\n",
       "        39., 40., 41., 42., 43., 44., 45., 46., 47., 48., 49.]))"
      ]
     },
     "execution_count": 145,
     "metadata": {},
     "output_type": "execute_result"
    }
   ],
   "source": [
    "log_l, iter"
   ]
  },
  {
   "cell_type": "code",
   "execution_count": 146,
   "metadata": {},
   "outputs": [
    {
     "data": {
      "text/plain": [
       "Text(0, 0.5, 'Log likelihood')"
      ]
     },
     "execution_count": 146,
     "metadata": {},
     "output_type": "execute_result"
    },
    {
     "data": {
      "image/png": "[encoded data removed]",
      "text/plain": [
       "<Figure size 640x480 with 1 Axes>"
      ]
     },
     "metadata": {},
     "output_type": "display_data"
    }
   ],
   "source": [
    "plt.scatter(iter, log_l, s=6, c='r', marker='o')\n",
    "plt.title('Log likelihood vs Iterations for Bernoulli Mixture Model')\n",
    "plt.xlabel('Iterations')\n",
    "plt.ylabel('Log likelihood')"
   ]
  },
  {
   "cell_type": "markdown",
   "metadata": {},
   "source": [
    "Plotting Log - Likelihood for Multivariate Gaussian distribution"
   ]
  },
  {
   "cell_type": "code",
   "execution_count": 152,
   "metadata": {},
   "outputs": [],
   "source": [
    "K = 4\n",
    "iterations = 20"
   ]
  },
  {
   "cell_type": "code",
   "execution_count": 153,
   "metadata": {},
   "outputs": [],
   "source": [
    "mu_gauss, sigma_gauss, pi_gauss, lam_gauss, log, it = em_algorithm_gaussian(dataset, K, iterations)"
   ]
  },
  {
   "cell_type": "code",
   "execution_count": 154,
   "metadata": {},
   "outputs": [
    {
     "data": {
      "text/plain": [
       "array([[8.91308339e-02, 5.22885895e-02, 9.90638175e-02, 3.47648280e-02],\n",
       "       [5.94205559e-02, 1.84303426e-01, 6.93387763e-02, 2.74830455e-01],\n",
       "       [1.08937686e-01, 1.84305104e-01, 9.06657737e-02, 1.37068406e-01],\n",
       "       [4.95171300e-02, 7.88955464e-02, 1.03686220e-01, 6.66534764e-02],\n",
       "       [1.18841112e-01, 2.63330872e-02, 9.92636037e-02, 6.74855237e-02],\n",
       "       [9.90342599e-02, 1.84292598e-01, 1.16333607e-01, 6.86917090e-02],\n",
       "       [1.18595087e-01, 1.05309241e-01, 1.03672353e-01, 1.72014540e-01],\n",
       "       [1.18841112e-01, 1.84293896e-01, 5.59525751e-02, 3.48547355e-02],\n",
       "       [9.90342599e-02, 5.22744513e-02, 9.90577113e-02, 3.48329473e-02],\n",
       "       [7.92274079e-02, 7.88986782e-02, 1.33686537e-01, 2.41849267e-01],\n",
       "       [1.58454815e-01, 7.89865304e-02, 9.03865005e-02, 1.74162900e-01],\n",
       "       [1.28744538e-01, 9.99981023e-01, 8.41161440e-05, 3.48475782e-02],\n",
       "       [1.28498513e-01, 9.47342947e-01, 9.05308941e-01, 8.95503686e-01],\n",
       "       [8.51448610e-01, 8.42030714e-01, 8.83787640e-01, 8.95502999e-01],\n",
       "       [9.20772592e-01, 9.47344531e-01, 8.83639975e-01, 8.96701656e-01],\n",
       "       [9.40579444e-01, 8.68352869e-01, 9.13771148e-01, 9.31521011e-01],\n",
       "       [9.10869166e-01, 8.94771784e-01, 8.70481568e-01, 8.98579287e-01],\n",
       "       [9.01211765e-01, 8.68365080e-01, 8.83673562e-01, 8.95553980e-01],\n",
       "       [9.30676018e-01, 8.94688860e-01, 9.09340096e-01, 9.32539048e-01],\n",
       "       [2.97102780e-02, 1.57606375e-01, 9.90553214e-02, 1.89883707e-07],\n",
       "       [1.08937686e-01, 1.31648350e-01, 9.08786179e-02, 6.56803081e-02],\n",
       "       [7.92274079e-02, 1.84309161e-01, 1.03971661e-01, 3.08037719e-01],\n",
       "       [7.89813833e-02, 9.21020555e-01, 8.79157698e-01, 9.32968249e-01],\n",
       "       [8.81404913e-01, 2.63152001e-02, 5.23242084e-02, 2.73213638e-01],\n",
       "       [8.41545184e-01, 8.42039511e-01, 8.70875536e-01, 8.60657124e-01],\n",
       "       [9.00965740e-01, 7.89785785e-02, 1.07711344e-01, 3.27445082e-06],\n",
       "       [5.94205559e-02, 9.47352588e-01, 9.09479152e-01, 9.30541223e-01],\n",
       "       [9.90342599e-02, 2.63295395e-02, 7.31697552e-02, 1.04499244e-01],\n",
       "       [8.91308339e-02, 1.31639654e-01, 1.16212522e-01, 9.40455865e-07],\n",
       "       [1.28498513e-01, 5.22881903e-02, 1.03940568e-01, 1.00660287e-01],\n",
       "       [4.95171300e-02, 1.84309640e-01, 9.03855703e-02, 2.79600311e-06],\n",
       "       [1.08691661e-01, 1.31627122e-01, 1.29227123e-01, 1.74214783e-01],\n",
       "       [7.92274079e-02, 8.42019613e-01, 9.08757869e-01, 7.97072798e-01],\n",
       "       [8.61352036e-01, 9.21024482e-01, 9.99409976e-01, 6.43005302e-02],\n",
       "       [9.50482870e-01, 8.68359441e-01, 8.66573634e-01, 8.60651243e-01],\n",
       "       [9.20772592e-01, 7.89730888e-02, 9.06417616e-02, 6.84848562e-02],\n",
       "       [6.93239819e-02, 7.89357429e-01, 9.04904798e-01, 8.28259452e-01],\n",
       "       [1.68112217e-01, 8.94678275e-01, 9.13918708e-01, 8.95500018e-01],\n",
       "       [1.08691661e-01, 8.94698789e-01, 8.96703494e-01, 9.30293943e-01],\n",
       "       [1.18841112e-01, 1.31637340e-01, 1.20516430e-01, 1.04501234e-01],\n",
       "       [7.92274079e-02, 7.89819938e-02, 6.88627946e-02, 2.09025225e-01],\n",
       "       [7.92274079e-02, 1.05314921e-01, 9.89969872e-02, 1.74145957e-01],\n",
       "       [1.18841112e-01, 7.89821210e-02, 6.02425239e-02, 3.49631828e-02],\n",
       "       [1.08937686e-01, 4.58933847e-08, 1.33587999e-01, 1.38033825e-01],\n",
       "       [7.92274079e-02, 1.31642047e-01, 9.08589716e-02, 6.58476360e-02],\n",
       "       [1.18841111e-01, 7.89855263e-02, 1.33428471e-01, 6.96638176e-02],\n",
       "       [8.91308339e-02, 1.57960944e-01, 9.90229815e-02, 6.94564297e-02],\n",
       "       [7.92274079e-02, 7.89709820e-02, 7.74299662e-02, 1.74540590e-01],\n",
       "       [9.90342599e-02, 1.05301170e-01, 7.31706848e-02, 6.96808310e-02],\n",
       "       [6.93239819e-02, 1.04945952e-01, 9.51796379e-02, 1.35862902e-01]])"
      ]
     },
     "execution_count": 154,
     "metadata": {},
     "output_type": "execute_result"
    }
   ],
   "source": [
    "mu_gauss"
   ]
  },
  {
   "cell_type": "code",
   "execution_count": 155,
   "metadata": {},
   "outputs": [
    {
     "data": {
      "text/plain": [
       "array([-25017.12072013, -12581.0472925 , -10220.30143924,  -9905.79133664,\n",
       "        -9856.7418943 ,  -9832.29434184,  -9814.60352259,  -9800.7483562 ,\n",
       "        -9789.21434047,  -9779.12924051,  -9771.11268221,  -9764.73718286,\n",
       "        -9759.19029028,  -9754.44324221,  -9749.93364167,  -9745.65464726,\n",
       "        -9741.93458522,  -9738.44685848,  -9735.30642721,  -9732.17039165])"
      ]
     },
     "execution_count": 155,
     "metadata": {},
     "output_type": "execute_result"
    }
   ],
   "source": [
    "log"
   ]
  },
  {
   "cell_type": "code",
   "execution_count": 156,
   "metadata": {},
   "outputs": [
    {
     "data": {
      "text/plain": [
       "Text(0, 0.5, 'Log likelihood')"
      ]
     },
     "execution_count": 156,
     "metadata": {},
     "output_type": "execute_result"
    },
    {
     "data": {
      "image/png": "[encoded data removed]",
      "text/plain": [
       "<Figure size 640x480 with 1 Axes>"
      ]
     },
     "metadata": {},
     "output_type": "display_data"
    }
   ],
   "source": [
    "plt.scatter(it_3, log_3, s=6, c='r', marker='o')\n",
    "plt.title('Log likelihood vs Iterations for Multivariate Gaussian Mixture Model')\n",
    "plt.xlabel('Iterations')\n",
    "plt.ylabel('Log likelihood')"
   ]
  },
  {
   "cell_type": "markdown",
   "metadata": {},
   "source": [
    "K-Means"
   ]
  },
  {
   "cell_type": "code",
   "execution_count": 157,
   "metadata": {},
   "outputs": [],
   "source": [
    "K = 4"
   ]
  },
  {
   "cell_type": "code",
   "execution_count": 158,
   "metadata": {},
   "outputs": [],
   "source": [
    "error_array, iter_array = kmeans(dataset_kmeans, K)"
   ]
  },
  {
   "cell_type": "code",
   "execution_count": 159,
   "metadata": {},
   "outputs": [
    {
     "data": {
      "text/plain": [
       "[2279.4257454200547,\n",
       " 1800.7626859891566,\n",
       " 1752.7985308317893,\n",
       " 1747.7056101758249,\n",
       " 1747.0040084232303,\n",
       " 1746.3863170658274,\n",
       " 1746.040076161463,\n",
       " 1745.8100761614612,\n",
       " 1745.7006277334424,\n",
       " 1745.564726699096]"
      ]
     },
     "execution_count": 159,
     "metadata": {},
     "output_type": "execute_result"
    }
   ],
   "source": [
    "error_array"
   ]
  },
  {
   "cell_type": "code",
   "execution_count": 160,
   "metadata": {},
   "outputs": [
    {
     "data": {
      "text/plain": [
       "Text(0, 0.5, 'Error')"
      ]
     },
     "execution_count": 160,
     "metadata": {},
     "output_type": "execute_result"
    },
    {
     "data": {
      "image/png": "[encoded data removed]",
      "text/plain": [
       "<Figure size 640x480 with 1 Axes>"
      ]
     },
     "metadata": {},
     "output_type": "display_data"
    }
   ],
   "source": [
    "plt.plot(iter_array, error_array, '-o', color='r')\n",
    "plt.title('Error vs Iterations for K-means')\n",
    "plt.xlabel('Iterations')\n",
    "plt.ylabel('Error')"
   ]
  },
  {
   "cell_type": "markdown",
   "metadata": {},
   "source": [
    "Comparing K-means, BMM and GMM using Hard Clustering"
   ]
  },
  {
   "cell_type": "code",
   "execution_count": 162,
   "metadata": {},
   "outputs": [],
   "source": [
    "error_kmeans = error_array[len(error_array)-1]\n",
    "error_bmm = compare_kmeans_em(dataset_kmeans, lambda_array, K)\n",
    "error_gmm = compare_kmeans_em(dataset_kmeans, lam_gauss, K)"
   ]
  },
  {
   "cell_type": "code",
   "execution_count": 164,
   "metadata": {},
   "outputs": [
    {
     "data": {
      "text/plain": [
       "(1745.564726699096, 1763.4333333333338, 1734.0502506693504)"
      ]
     },
     "execution_count": 164,
     "metadata": {},
     "output_type": "execute_result"
    }
   ],
   "source": [
    "error_kmeans, error_bmm, error_gmm"
   ]
  },
  {
   "cell_type": "markdown",
   "metadata": {},
   "source": [
    "GMM has the least value of the objective function"
   ]
  },
  {
   "cell_type": "markdown",
   "metadata": {},
   "source": [
    "Trying to plot the images"
   ]
  },
  {
   "cell_type": "code",
   "execution_count": 223,
   "metadata": {},
   "outputs": [],
   "source": [
    "dataset_images = dataset.reshape(10,5,400)"
   ]
  },
  {
   "cell_type": "code",
   "execution_count": 224,
   "metadata": {},
   "outputs": [
    {
     "data": {
      "text/plain": [
       "(10, 5)"
      ]
     },
     "execution_count": 224,
     "metadata": {},
     "output_type": "execute_result"
    }
   ],
   "source": [
    "dataset_images[:,:,0].shape"
   ]
  },
  {
   "cell_type": "code",
   "execution_count": 225,
   "metadata": {},
   "outputs": [
    {
     "data": {
      "text/plain": [
       "<matplotlib.image.AxesImage at 0x1eeb7ceba90>"
      ]
     },
     "execution_count": 225,
     "metadata": {},
     "output_type": "execute_result"
    },
    {
     "data": {
      "image/png": "[encoded data removed]",
      "text/plain": [
       "<Figure size 640x480 with 1 Axes>"
      ]
     },
     "metadata": {},
     "output_type": "display_data"
    }
   ],
   "source": [
    "plt.imshow(dataset_images[:,:,0], cmap='gray')"
   ]
  },
  {
   "cell_type": "code",
   "execution_count": 234,
   "metadata": {},
   "outputs": [],
   "source": [
    "mean_image = np.mean(dataset, axis = 1)"
   ]
  },
  {
   "cell_type": "code",
   "execution_count": 236,
   "metadata": {},
   "outputs": [],
   "source": [
    "mean_image = mean_image.reshape(10, 5)"
   ]
  },
  {
   "cell_type": "code",
   "execution_count": 238,
   "metadata": {},
   "outputs": [
    {
     "data": {
      "text/plain": [
       "array([[0.0875, 0.0925, 0.1075, 0.085 , 0.095 ],\n",
       "       [0.115 , 0.1125, 0.0825, 0.09  , 0.1225],\n",
       "       [0.1125, 0.13  , 0.7125, 0.8725, 0.9   ],\n",
       "       [0.9175, 0.885 , 0.8875, 0.915 , 0.08  ],\n",
       "       [0.0975, 0.12  , 0.685 , 0.275 , 0.86  ],\n",
       "       [0.2975, 0.7   , 0.0775, 0.1025, 0.105 ],\n",
       "       [0.0825, 0.1275, 0.685 , 0.89  , 0.8875],\n",
       "       [0.2975, 0.6775, 0.7225, 0.7   , 0.12  ],\n",
       "       [0.0825, 0.1   , 0.075 , 0.115 , 0.09  ],\n",
       "       [0.12  , 0.1   , 0.085 , 0.0825, 0.0925]])"
      ]
     },
     "execution_count": 238,
     "metadata": {},
     "output_type": "execute_result"
    }
   ],
   "source": [
    "mean_image"
   ]
  },
  {
   "cell_type": "code",
   "execution_count": 237,
   "metadata": {},
   "outputs": [
    {
     "data": {
      "text/plain": [
       "<matplotlib.image.AxesImage at 0x1eeb92aba90>"
      ]
     },
     "execution_count": 237,
     "metadata": {},
     "output_type": "execute_result"
    },
    {
     "data": {
      "image/png": "[encoded data removed]",
      "text/plain": [
       "<Figure size 640x480 with 1 Axes>"
      ]
     },
     "metadata": {},
     "output_type": "display_data"
    }
   ],
   "source": [
    "plt.imshow(mean_image, cmap='gray')  "
   ]
  }
 ],
 "metadata": {
  "kernelspec": {
   "display_name": "pytorch",
   "language": "python",
   "name": "python3"
  },
  "language_info": {
   "codemirror_mode": {
    "name": "ipython",
    "version": 3
   },
   "file_extension": ".py",
   "mimetype": "text/x-python",
   "name": "python",
   "nbconvert_exporter": "python",
   "pygments_lexer": "ipython3",
   "version": "3.11.5"
  }
 },
 "nbformat": 4,
 "nbformat_minor": 2
}
